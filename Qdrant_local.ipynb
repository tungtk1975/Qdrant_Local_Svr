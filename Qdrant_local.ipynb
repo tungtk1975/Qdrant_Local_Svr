{
 "cells": [
  {
   "cell_type": "markdown",
   "metadata": {},
   "source": [
    "CODE TEST QDRANT\n",
    "- Connect Qdrant server (thay localhost bằng IP máy chủ)\n",
    "- Tạo locations\n",
    "- Embeding pdf file (change pdf_path)\n",
    "\n",
    "Note: befor running code make sure to\n",
    "- Create and active environment\n",
    "- install Qdrant client:  pip install qdrant-client[fastembed]\n",
    "\n",
    "FastEmbed is a library for creating fast vector embeddings on CPU. It is based on ONNX Runtime and allows to run inference on CPU with GPU-like performance.\n",
    "Qdrant Client can use FastEmbed to create embeddings and upload them to Qdrant. This allows to simplify API and make it more intuitive."
   ]
  },
  {
   "cell_type": "code",
   "execution_count": 31,
   "metadata": {},
   "outputs": [],
   "source": [
    "# pip install qdrant-client"
   ]
  },
  {
   "cell_type": "code",
   "execution_count": 18,
   "metadata": {},
   "outputs": [],
   "source": [
    "from qdrant_client import QdrantClient\n",
    "from qdrant_client.http import models\n",
    "import os\n",
    "import pdfplumber\n",
    "from sentence_transformers import SentenceTransformer\n",
    "\n",
    "# Initialize Qdrant client\n",
    "qdrant_client = QdrantClient(\"localhost:6333\")  # Replace with your Qdrant server URL\n",
    "\n",
    "# Initialize the BERT model for sentence embedding\n",
    "model = SentenceTransformer('paraphrase-MiniLM-L6-v2')"
   ]
  },
  {
   "cell_type": "code",
   "execution_count": 23,
   "metadata": {},
   "outputs": [],
   "source": [
    "# Function to extract text from a PDF file\n",
    "def extract_text_from_pdf(pdf_path):\n",
    "    with pdfplumber.open(pdf_path) as pdf:\n",
    "        text = []\n",
    "        for i, page in enumerate(pdf.pages):\n",
    "            text.append(page.extract_text())\n",
    "    return text"
   ]
  },
  {
   "cell_type": "code",
   "execution_count": 25,
   "metadata": {},
   "outputs": [],
   "source": [
    "# Path to the PDF file you want to embed\n",
    "pdf_path = '/Users/nad/Desktop/test_pdf/Microsoft_Press_ebook_Introducing_Power_BI_PDF_mobile.pdf'\n",
    "# Define the collection name as \"First_collection\"\n",
    "collection_name = \"power_bi_fundamentals_remote_test\"\n",
    "# Check if the collection exists, if not create it\n",
    "collections = qdrant_client.get_collections().collections\n",
    "collection_names = [collection.name for collection in collections]\n",
    "if collection_name not in collection_names:\n",
    "    qdrant_client.create_collection(\n",
    "        collection_name=collection_name,\n",
    "        vectors_config=models.VectorParams(size=384, distance=models.Distance.COSINE),\n",
    "        \n",
    "    )\n",
    "    print(f\"Collection '{collection_name}' created.\")"
   ]
  },
  {
   "cell_type": "code",
   "execution_count": 26,
   "metadata": {},
   "outputs": [],
   "source": [
    "# Function to convert text to embeddings and save to Qdrant for a single PDF\n",
    "text = extract_text_from_pdf(pdf_path)"
   ]
  },
  {
   "cell_type": "code",
   "execution_count": 27,
   "metadata": {},
   "outputs": [
    {
     "data": {
      "text/plain": [
       "UpdateResult(operation_id=1, status=<UpdateStatus.COMPLETED: 'completed'>)"
      ]
     },
     "execution_count": 27,
     "metadata": {},
     "output_type": "execute_result"
    }
   ],
   "source": [
    "points = []\n",
    "for i in range(len(text)):\n",
    "    embeded_vector = model.encode(text[i]).tolist()\n",
    "    point = models.PointStruct(\n",
    "                id=i,\n",
    "                payload={\n",
    "                    \"text\": text[i],\n",
    "                },\n",
    "                vector=embeded_vector,\n",
    "            )\n",
    "    points.append(point)\n",
    "\n",
    "qdrant_client.upsert(\n",
    "    collection_name=collection_name,\n",
    "    points=points)"
   ]
  }
 ],
 "metadata": {
  "kernelspec": {
   "display_name": "dqrant",
   "language": "python",
   "name": "python3"
  },
  "language_info": {
   "codemirror_mode": {
    "name": "ipython",
    "version": 3
   },
   "file_extension": ".py",
   "mimetype": "text/x-python",
   "name": "python",
   "nbconvert_exporter": "python",
   "pygments_lexer": "ipython3",
   "version": "3.11.4"
  }
 },
 "nbformat": 4,
 "nbformat_minor": 2
}
